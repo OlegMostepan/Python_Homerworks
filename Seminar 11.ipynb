{
  "nbformat": 4,
  "nbformat_minor": 0,
  "metadata": {
    "colab": {
      "provenance": []
    },
    "kernelspec": {
      "name": "python3",
      "display_name": "Python 3"
    },
    "language_info": {
      "name": "python"
    }
  },
  "cells": [
    {
      "cell_type": "markdown",
      "source": [],
      "metadata": {
        "id": "jo2x5BypZm3O"
      }
    },
    {
      "cell_type": "code",
      "execution_count": 1,
      "metadata": {
        "colab": {
          "base_uri": "https://localhost:8080/",
          "height": 130
        },
        "id": "lusAo8VFZqij",
        "outputId": "29379443-ed2c-4dc9-c9dd-fdec4ee570d9"
      },
      "outputs": [
        {
          "output_type": "error",
          "ename": "SyntaxError",
          "evalue": "ignored",
          "traceback": [
            "\u001b[0;36m  File \u001b[0;32m\"<ipython-input-1-36026f0cf3c8>\"\u001b[0;36m, line \u001b[0;32m2\u001b[0m\n\u001b[0;31m    1.определить корни\u001b[0m\n\u001b[0m      ^\u001b[0m\n\u001b[0;31mSyntaxError\u001b[0m\u001b[0;31m:\u001b[0m invalid syntax\n"
          ]
        }
      ],
      "source": [
        "### Дана функция \n",
        "1.определить корни\n",
        "2.\n",
        "3.апав"
      ]
    },
    {
      "cell_type": "code",
      "source": [
        "import numpy as np\n",
        "import matplotlib.pyplot as plt\n",
        "from sympy import *\n",
        "\n",
        "x1, x2 = np.roots([5,10,-30])\n",
        "x1, x2"
      ],
      "metadata": {
        "id": "jYCVybjm0BPd"
      },
      "execution_count": null,
      "outputs": []
    },
    {
      "cell_type": "code",
      "source": [
        "y = [5, 10, -30]\n"
      ],
      "metadata": {
        "id": "2D0n0DMohE_g"
      },
      "execution_count": 2,
      "outputs": []
    },
    {
      "cell_type": "code",
      "source": [
        "np.polyder(y)"
      ],
      "metadata": {
        "colab": {
          "base_uri": "https://localhost:8080/",
          "height": 165
        },
        "id": "qiljlpbrhRWO",
        "outputId": "9d542cfd-01a4-4e16-8411-b614601189bc"
      },
      "execution_count": 3,
      "outputs": [
        {
          "output_type": "error",
          "ename": "NameError",
          "evalue": "ignored",
          "traceback": [
            "\u001b[0;31m---------------------------------------------------------------------------\u001b[0m",
            "\u001b[0;31mNameError\u001b[0m                                 Traceback (most recent call last)",
            "\u001b[0;32m<ipython-input-3-cc3d9578623a>\u001b[0m in \u001b[0;36m<module>\u001b[0;34m\u001b[0m\n\u001b[0;32m----> 1\u001b[0;31m \u001b[0mnp\u001b[0m\u001b[0;34m.\u001b[0m\u001b[0mpolyder\u001b[0m\u001b[0;34m(\u001b[0m\u001b[0my\u001b[0m\u001b[0;34m)\u001b[0m\u001b[0;34m\u001b[0m\u001b[0;34m\u001b[0m\u001b[0m\n\u001b[0m",
            "\u001b[0;31mNameError\u001b[0m: name 'np' is not defined"
          ]
        }
      ]
    },
    {
      "cell_type": "code",
      "source": [
        "z1 = np.roots(np.polyder(y))\n",
        "z1"
      ],
      "metadata": {
        "id": "Pso-9lQIhqR1"
      },
      "execution_count": null,
      "outputs": []
    },
    {
      "cell_type": "code",
      "source": [
        "np.polyval(y, z1)"
      ],
      "metadata": {
        "id": "xLKGzZUNiJD1"
      },
      "execution_count": null,
      "outputs": []
    },
    {
      "cell_type": "code",
      "source": [
        "z = list(range(-10,10))"
      ],
      "metadata": {
        "id": "9YhVJr1KnMBG"
      },
      "execution_count": null,
      "outputs": []
    },
    {
      "cell_type": "code",
      "source": [
        "fz = [5*x**2 + 10*x - 30 for x in z ]"
      ],
      "metadata": {
        "id": "eDBp7pprnPz-"
      },
      "execution_count": null,
      "outputs": []
    },
    {
      "cell_type": "code",
      "source": [
        "plt.axes(facecolor='white')"
      ],
      "metadata": {
        "id": "FrHUHvl2ninO"
      },
      "execution_count": null,
      "outputs": []
    },
    {
      "cell_type": "code",
      "source": [
        "plt.plot(z,fz)\n",
        "plt.show()"
      ],
      "metadata": {
        "id": "MAlzuefBnoYm"
      },
      "execution_count": null,
      "outputs": []
    },
    {
      "cell_type": "code",
      "source": [
        "x = Symbol('x')"
      ],
      "metadata": {
        "id": "EOkRfQERpUia"
      },
      "execution_count": null,
      "outputs": []
    },
    {
      "cell_type": "code",
      "source": [
        "y  = 5*x**2 + 10*x - 30"
      ],
      "metadata": {
        "id": "GDSD6fxjqjrj"
      },
      "execution_count": null,
      "outputs": []
    },
    {
      "cell_type": "code",
      "source": [
        "root1, root2 = solve(y)\n",
        "float(root1)"
      ],
      "metadata": {
        "id": "PhpJTxbYqofW"
      },
      "execution_count": null,
      "outputs": []
    },
    {
      "cell_type": "code",
      "source": [
        "df = diff(y)\n",
        "df"
      ],
      "metadata": {
        "id": "--okMhykrSqg"
      },
      "execution_count": null,
      "outputs": []
    },
    {
      "cell_type": "code",
      "source": [
        "df_roots = solve(df)\n",
        "float(df_roots[0])"
      ],
      "metadata": {
        "id": "zC-uwiRLrecR"
      },
      "execution_count": null,
      "outputs": []
    },
    {
      "cell_type": "code",
      "source": [
        "solve(df>0)"
      ],
      "metadata": {
        "id": "-tsK6TXnr6Y2"
      },
      "execution_count": null,
      "outputs": []
    },
    {
      "cell_type": "code",
      "source": [
        "solve(df<0)"
      ],
      "metadata": {
        "id": "dHGP8OkpsBrO"
      },
      "execution_count": null,
      "outputs": []
    },
    {
      "cell_type": "code",
      "source": [],
      "metadata": {
        "id": "xgt4oPfQsC_q"
      },
      "execution_count": null,
      "outputs": []
    },
    {
      "cell_type": "markdown",
      "source": [
        "определить промежутки на котором f > 0 and f < 0"
      ],
      "metadata": {
        "id": "M9rukpaHsbCv"
      }
    },
    {
      "cell_type": "code",
      "source": [
        "solve(y>0)\n"
      ],
      "metadata": {
        "id": "CNgux9-Islzn"
      },
      "execution_count": null,
      "outputs": []
    },
    {
      "cell_type": "code",
      "source": [
        "solve(y<0)"
      ],
      "metadata": {
        "id": "S7RwWeR2s0x-"
      },
      "execution_count": null,
      "outputs": []
    }
  ]
}